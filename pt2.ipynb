{
 "cells": [
  {
   "cell_type": "code",
   "execution_count": 2,
   "metadata": {},
   "outputs": [],
   "source": [
    "# !pip install scikit-learn\n",
    "from sklearn.tree import DecisionTreeClassifier\n",
    "from sklearn.linear_model import LogisticRegression\n",
    "from sklearn.svm import SVC\n",
    "from funcs import(VARS,faz_logreg,faz_prompt,prep_logreg,faz_tudo)\n",
    "from prep import(df_white,df_red)"
   ]
  },
  {
   "attachments": {},
   "cell_type": "markdown",
   "metadata": {},
   "source": [
    "## LogReg"
   ]
  },
  {
   "cell_type": "code",
   "execution_count": 3,
   "metadata": {},
   "outputs": [
    {
     "name": "stdout",
     "output_type": "stream",
     "text": [
      "--------TREINO---------------\n",
      "acuracia: 0.76, precisão 0.78, recall: 0.89, f1: 0.83\n",
      "--------TESTE---------------\n",
      "acuracia: 0.74, precisão 0.76, recall: 0.88, f1: 0.82\n"
     ]
    }
   ],
   "source": [
    "x_train_white,x_test_white,y_train_white,y_test_white=prep_logreg(df_white,stratify=df_white[\"opinion\"])\n",
    "model=LogisticRegression(max_iter=10_000)\n",
    "y_prob_white,y_pred_white,model=faz_logreg(x_train_white,y_train_white,model)\n",
    "print(\"--------TREINO---------------\")\n",
    "faz_prompt(y_train_white,y_pred_white)\n",
    "y_pred_test_white=model.predict(x_test_white)\n",
    "print(\"--------TESTE---------------\")\n",
    "faz_prompt(y_test_white,y_pred_test_white)"
   ]
  },
  {
   "attachments": {},
   "cell_type": "markdown",
   "metadata": {},
   "source": [
    "## K-fold"
   ]
  },
  {
   "cell_type": "code",
   "execution_count": 4,
   "metadata": {},
   "outputs": [
    {
     "name": "stdout",
     "output_type": "stream",
     "text": [
      "Meu resultado de acuracia Médio é: 0.76 +-  0.016\n",
      "Meu resultado de precisão Médio é: 0.78 +-  0.012\n",
      "Meu resultado de recall   Médio é: 0.89 +-  0.02\n",
      "Meu resultado de F1-Score Médio é: 0.83 +-  0.012\n",
      "--------TESTE---------------\n",
      "acuracia: 0.73, precisão 0.76, recall: 0.88, f1: 0.81\n"
     ]
    }
   ],
   "source": [
    "model=LogisticRegression(max_iter=10_000)\n",
    "_,_,_=faz_tudo(model,df_white)"
   ]
  },
  {
   "attachments": {},
   "cell_type": "markdown",
   "metadata": {},
   "source": [
    "## Decision Tree"
   ]
  },
  {
   "cell_type": "code",
   "execution_count": 5,
   "metadata": {},
   "outputs": [
    {
     "name": "stdout",
     "output_type": "stream",
     "text": [
      "Meu resultado de acuracia Médio é: 0.74 +-  0.023\n",
      "Meu resultado de precisão Médio é: 0.79 +-  0.018\n",
      "Meu resultado de recall   Médio é: 0.83 +-  0.028\n",
      "Meu resultado de F1-Score Médio é: 0.81 +-  0.018\n",
      "--------TESTE---------------\n",
      "acuracia: 0.73, precisão 0.76, recall: 0.87, f1: 0.81\n"
     ]
    }
   ],
   "source": [
    "model=DecisionTreeClassifier(min_samples_leaf=50)\n",
    "_,_,_=faz_tudo(model,df_white)"
   ]
  },
  {
   "attachments": {},
   "cell_type": "markdown",
   "metadata": {},
   "source": [
    "## SVM"
   ]
  },
  {
   "cell_type": "code",
   "execution_count": 6,
   "metadata": {},
   "outputs": [
    {
     "name": "stdout",
     "output_type": "stream",
     "text": [
      "Meu resultado de acuracia Médio é: 0.77 +-  0.023\n",
      "Meu resultado de precisão Médio é: 0.8 +-  0.018\n",
      "Meu resultado de recall   Médio é: 0.88 +-  0.022\n",
      "Meu resultado de F1-Score Médio é: 0.84 +-  0.017\n",
      "--------TESTE---------------\n",
      "acuracia: 0.73, precisão 0.75, recall: 0.88, f1: 0.81\n"
     ]
    }
   ],
   "source": [
    "model=SVC(gamma=\"auto\",C=1,kernel=\"rbf\",probability=True)\n",
    "best_layer,tree,scale=faz_tudo(model,df_white)"
   ]
  },
  {
   "attachments": {},
   "cell_type": "markdown",
   "metadata": {},
   "source": [
    "## SVM para Tinto"
   ]
  },
  {
   "cell_type": "code",
   "execution_count": 7,
   "metadata": {},
   "outputs": [
    {
     "name": "stderr",
     "output_type": "stream",
     "text": [
      "c:\\Users\\Bernardo\\Desktop\\Nova_Pasta\\Learn_machine_learn\\.venv\\Lib\\site-packages\\sklearn\\base.py:432: UserWarning: X has feature names, but StandardScaler was fitted without feature names\n",
      "  warnings.warn(\n",
      "c:\\Users\\Bernardo\\Desktop\\Nova_Pasta\\Learn_machine_learn\\.venv\\Lib\\site-packages\\sklearn\\base.py:439: UserWarning: X does not have valid feature names, but SVC was fitted with feature names\n",
      "  warnings.warn(\n"
     ]
    },
    {
     "data": {
      "text/html": [
       "<div>\n",
       "<style scoped>\n",
       "    .dataframe tbody tr th:only-of-type {\n",
       "        vertical-align: middle;\n",
       "    }\n",
       "\n",
       "    .dataframe tbody tr th {\n",
       "        vertical-align: top;\n",
       "    }\n",
       "\n",
       "    .dataframe thead th {\n",
       "        text-align: right;\n",
       "    }\n",
       "</style>\n",
       "<table border=\"1\" class=\"dataframe\">\n",
       "  <thead>\n",
       "    <tr style=\"text-align: right;\">\n",
       "      <th></th>\n",
       "      <th>fixed acidity</th>\n",
       "      <th>volatile acidity</th>\n",
       "      <th>residual sugar</th>\n",
       "      <th>total sulfur dioxide</th>\n",
       "      <th>density</th>\n",
       "      <th>alcohol</th>\n",
       "    </tr>\n",
       "  </thead>\n",
       "  <tbody>\n",
       "    <tr>\n",
       "      <th>4898</th>\n",
       "      <td>7.4</td>\n",
       "      <td>0.700</td>\n",
       "      <td>1.9</td>\n",
       "      <td>34.0</td>\n",
       "      <td>0.9978</td>\n",
       "      <td>9.4</td>\n",
       "    </tr>\n",
       "    <tr>\n",
       "      <th>4899</th>\n",
       "      <td>7.8</td>\n",
       "      <td>0.880</td>\n",
       "      <td>2.6</td>\n",
       "      <td>67.0</td>\n",
       "      <td>0.9968</td>\n",
       "      <td>9.8</td>\n",
       "    </tr>\n",
       "    <tr>\n",
       "      <th>4900</th>\n",
       "      <td>7.8</td>\n",
       "      <td>0.760</td>\n",
       "      <td>2.3</td>\n",
       "      <td>54.0</td>\n",
       "      <td>0.9970</td>\n",
       "      <td>9.8</td>\n",
       "    </tr>\n",
       "    <tr>\n",
       "      <th>4901</th>\n",
       "      <td>11.2</td>\n",
       "      <td>0.280</td>\n",
       "      <td>1.9</td>\n",
       "      <td>60.0</td>\n",
       "      <td>0.9980</td>\n",
       "      <td>9.8</td>\n",
       "    </tr>\n",
       "    <tr>\n",
       "      <th>4902</th>\n",
       "      <td>7.4</td>\n",
       "      <td>0.700</td>\n",
       "      <td>1.9</td>\n",
       "      <td>34.0</td>\n",
       "      <td>0.9978</td>\n",
       "      <td>9.4</td>\n",
       "    </tr>\n",
       "    <tr>\n",
       "      <th>4903</th>\n",
       "      <td>7.4</td>\n",
       "      <td>0.660</td>\n",
       "      <td>1.8</td>\n",
       "      <td>40.0</td>\n",
       "      <td>0.9978</td>\n",
       "      <td>9.4</td>\n",
       "    </tr>\n",
       "    <tr>\n",
       "      <th>4904</th>\n",
       "      <td>7.9</td>\n",
       "      <td>0.600</td>\n",
       "      <td>1.6</td>\n",
       "      <td>59.0</td>\n",
       "      <td>0.9964</td>\n",
       "      <td>9.4</td>\n",
       "    </tr>\n",
       "    <tr>\n",
       "      <th>4905</th>\n",
       "      <td>7.3</td>\n",
       "      <td>0.650</td>\n",
       "      <td>1.2</td>\n",
       "      <td>21.0</td>\n",
       "      <td>0.9946</td>\n",
       "      <td>10.0</td>\n",
       "    </tr>\n",
       "    <tr>\n",
       "      <th>4906</th>\n",
       "      <td>7.8</td>\n",
       "      <td>0.580</td>\n",
       "      <td>2.0</td>\n",
       "      <td>18.0</td>\n",
       "      <td>0.9968</td>\n",
       "      <td>9.5</td>\n",
       "    </tr>\n",
       "    <tr>\n",
       "      <th>4907</th>\n",
       "      <td>7.5</td>\n",
       "      <td>0.500</td>\n",
       "      <td>6.1</td>\n",
       "      <td>102.0</td>\n",
       "      <td>0.9978</td>\n",
       "      <td>10.5</td>\n",
       "    </tr>\n",
       "    <tr>\n",
       "      <th>4908</th>\n",
       "      <td>6.7</td>\n",
       "      <td>0.580</td>\n",
       "      <td>1.8</td>\n",
       "      <td>65.0</td>\n",
       "      <td>0.9959</td>\n",
       "      <td>9.2</td>\n",
       "    </tr>\n",
       "    <tr>\n",
       "      <th>4909</th>\n",
       "      <td>7.5</td>\n",
       "      <td>0.500</td>\n",
       "      <td>6.1</td>\n",
       "      <td>102.0</td>\n",
       "      <td>0.9978</td>\n",
       "      <td>10.5</td>\n",
       "    </tr>\n",
       "    <tr>\n",
       "      <th>4910</th>\n",
       "      <td>5.6</td>\n",
       "      <td>0.615</td>\n",
       "      <td>1.6</td>\n",
       "      <td>59.0</td>\n",
       "      <td>0.9943</td>\n",
       "      <td>9.9</td>\n",
       "    </tr>\n",
       "    <tr>\n",
       "      <th>4911</th>\n",
       "      <td>7.8</td>\n",
       "      <td>0.610</td>\n",
       "      <td>1.6</td>\n",
       "      <td>29.0</td>\n",
       "      <td>0.9974</td>\n",
       "      <td>9.1</td>\n",
       "    </tr>\n",
       "    <tr>\n",
       "      <th>4912</th>\n",
       "      <td>8.9</td>\n",
       "      <td>0.620</td>\n",
       "      <td>3.8</td>\n",
       "      <td>145.0</td>\n",
       "      <td>0.9986</td>\n",
       "      <td>9.2</td>\n",
       "    </tr>\n",
       "  </tbody>\n",
       "</table>\n",
       "</div>"
      ],
      "text/plain": [
       "      fixed acidity  volatile acidity  residual sugar  total sulfur dioxide   \n",
       "4898            7.4             0.700             1.9                  34.0  \\\n",
       "4899            7.8             0.880             2.6                  67.0   \n",
       "4900            7.8             0.760             2.3                  54.0   \n",
       "4901           11.2             0.280             1.9                  60.0   \n",
       "4902            7.4             0.700             1.9                  34.0   \n",
       "4903            7.4             0.660             1.8                  40.0   \n",
       "4904            7.9             0.600             1.6                  59.0   \n",
       "4905            7.3             0.650             1.2                  21.0   \n",
       "4906            7.8             0.580             2.0                  18.0   \n",
       "4907            7.5             0.500             6.1                 102.0   \n",
       "4908            6.7             0.580             1.8                  65.0   \n",
       "4909            7.5             0.500             6.1                 102.0   \n",
       "4910            5.6             0.615             1.6                  59.0   \n",
       "4911            7.8             0.610             1.6                  29.0   \n",
       "4912            8.9             0.620             3.8                 145.0   \n",
       "\n",
       "      density  alcohol  \n",
       "4898   0.9978      9.4  \n",
       "4899   0.9968      9.8  \n",
       "4900   0.9970      9.8  \n",
       "4901   0.9980      9.8  \n",
       "4902   0.9978      9.4  \n",
       "4903   0.9978      9.4  \n",
       "4904   0.9964      9.4  \n",
       "4905   0.9946     10.0  \n",
       "4906   0.9968      9.5  \n",
       "4907   0.9978     10.5  \n",
       "4908   0.9959      9.2  \n",
       "4909   0.9978     10.5  \n",
       "4910   0.9943      9.9  \n",
       "4911   0.9974      9.1  \n",
       "4912   0.9986      9.2  "
      ]
     },
     "execution_count": 7,
     "metadata": {},
     "output_type": "execute_result"
    }
   ],
   "source": [
    "df_red_scaled=scale[best_layer].transform(df_red[VARS])\n",
    "yhat_red=tree[best_layer].predict(df_red_scaled)\n",
    "df_red[\"pred\"]=yhat_red\n",
    "df_red[VARS].head(15)"
   ]
  },
  {
   "cell_type": "code",
   "execution_count": 8,
   "metadata": {},
   "outputs": [
    {
     "data": {
      "text/plain": [
       "pred\n",
       "1.0    1593\n",
       "Name: count, dtype: int64"
      ]
     },
     "execution_count": 8,
     "metadata": {},
     "output_type": "execute_result"
    }
   ],
   "source": [
    "df_red[\"pred\"].value_counts()"
   ]
  }
 ],
 "metadata": {
  "kernelspec": {
   "display_name": ".venv",
   "language": "python",
   "name": "python3"
  },
  "language_info": {
   "codemirror_mode": {
    "name": "ipython",
    "version": 3
   },
   "file_extension": ".py",
   "mimetype": "text/x-python",
   "name": "python",
   "nbconvert_exporter": "python",
   "pygments_lexer": "ipython3",
   "version": "3.11.2"
  },
  "orig_nbformat": 4
 },
 "nbformat": 4,
 "nbformat_minor": 2
}
